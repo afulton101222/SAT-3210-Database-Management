{
 "cells": [
  {
   "cell_type": "markdown",
   "id": "db613f1b",
   "metadata": {},
   "source": [
    "# SAT 3210 Database Management Course Project"
   ]
  },
  {
   "attachments": {},
   "cell_type": "markdown",
   "id": "a0ce0d61",
   "metadata": {},
   "source": [
    "#### MySQL Connector\n",
    "\n",
    "We first need to install the mysql connector and connect to the database"
   ]
  },
  {
   "cell_type": "code",
   "execution_count": null,
   "id": "29161d87",
   "metadata": {},
   "outputs": [],
   "source": [
    "pip install mysql-connector-python"
   ]
  },
  {
   "attachments": {},
   "cell_type": "markdown",
   "id": "c2667289",
   "metadata": {},
   "source": [
    "#### Test Database Initial Connection\n",
    "\n",
    "Testing connection to database with credentials in a password.txt file."
   ]
  },
  {
   "cell_type": "code",
   "execution_count": 2,
   "id": "cc7ad22f",
   "metadata": {},
   "outputs": [
    {
     "name": "stdout",
     "output_type": "stream",
     "text": [
      "Connected to MySQL Server version  8.0.31\n",
      "You're connected to database:  ('econofoods',)\n"
     ]
    }
   ],
   "source": [
    "import mysql.connector\n",
    "from mysql.connector import Error\n",
    "\n",
    "database = \"EconoFoods\"\n",
    "creds = open(\"password.txt\", \"r\")\n",
    "lines = creds.readlines()\n",
    "user_name = lines[0]\n",
    "password = lines[1]\n",
    "creds.close()\n",
    "\n",
    "try:\n",
    "    connection = mysql.connector.connect(host='localhost', database=database, user=user_name, password=password)\n",
    "    if connection.is_connected():\n",
    "        db_Info = connection.get_server_info()\n",
    "        print(\"Connected to MySQL Server version \", db_Info)\n",
    "        cursor = connection.cursor()\n",
    "        cursor.execute(\"select database();\")\n",
    "        record = cursor.fetchone()\n",
    "        print(\"You're connected to database: \", record)\n",
    "except Error as e:\n",
    "    print(\"Error while connecting to MySQL\", e)\n",
    "\n"
   ]
  },
  {
   "attachments": {},
   "cell_type": "markdown",
   "id": "294d13f1",
   "metadata": {},
   "source": [
    "#### Close Database\n",
    "\n",
    "Close database until future use."
   ]
  },
  {
   "cell_type": "code",
   "execution_count": 18,
   "id": "6a6dedd3",
   "metadata": {},
   "outputs": [],
   "source": [
    "if connection.is_connected():\n",
    "    cursor.close()\n",
    "    connection.close()\n",
    "    print(\"MySQL connection is closed\")"
   ]
  },
  {
   "attachments": {},
   "cell_type": "markdown",
   "id": "cada1c51",
   "metadata": {},
   "source": [
    "## Database Design (Section 1)\n",
    "\n",
    "We've constructed an ER Diagram, reduced that to a relational schema diagram, and translated that over to our database files. We've included screenshots of our diagrams in our project overview paper.\n",
    "\n",
    "Our database creation file is `DaDatabaseDDL.sql`"
   ]
  },
  {
   "attachments": {},
   "cell_type": "markdown",
   "id": "004c0538",
   "metadata": {},
   "source": [
    "## Populate Relations (Section 2)\n",
    "\n",
    "For populating our database, we included an `insert.sql` script. After running the script, the database should be populated with all of our store's data."
   ]
  },
  {
   "cell_type": "markdown",
   "id": "a536e2db",
   "metadata": {},
   "source": [
    "## Database Queries (Section 3)\n",
    "\n",
    "\n",
    "\n"
   ]
  },
  {
   "attachments": {},
   "cell_type": "markdown",
   "id": "23cba4cf",
   "metadata": {},
   "source": [
    "1. How many products are in your store?\n",
    "2. How many types of products are in your store?\n",
    "3. What are the top 20 best-selling products in your store?\n",
    "4. Who are the top 10 best-selling vendors in your store?\n",
    "5. What are the top 3 types of products that customers buy?\n",
    "6. How many customers have purchased diet Pepsi? (Or a similar question for nonfood enterprises.)"
   ]
  },
  {
   "cell_type": "code",
   "execution_count": 2,
   "id": "cc7ad22f",
   "metadata": {},
   "outputs": [
    {
     "name": "stdout",
     "output_type": "stream",
     "text": [
      "Connected to MySQL Server version  8.0.31\n",
      "You're connected to database:  ('econofoods',)\n"
     ]
    }
   ],
   "source": [
    "import mysql.connector\n",
    "from mysql.connector import Error\n",
    "\n",
    "database = \"EconoFoods\"\n",
    "creds = open(\"password.txt\", \"r\")\n",
    "lines = creds.readlines()\n",
    "user_name = lines[0]\n",
    "password = lines[1]\n",
    "creds.close()\n",
    "\n",
    "try:\n",
    "    connection = mysql.connector.connect(host='localhost', database=database, user=user_name, password=password)\n",
    "    if connection.is_connected():\n",
    "        db_Info = connection.get_server_info()\n",
    "        print(\"Connected to MySQL Server version \", db_Info)\n",
    "        cursor = connection.cursor()\n",
    "        cursor.execute(\"select database();\")\n",
    "        record = cursor.fetchone()\n",
    "        print(\"You're connected to database: \", record)\n",
    "except Error as e:\n",
    "    print(\"Error while connecting to MySQL\", e)\n"
   ]
  },
  {
   "cell_type": "code",
   "execution_count": null,
   "id": "77130697",
   "metadata": {},
   "outputs": [],
   "source": [
    "# Query 1\n",
    "\n",
    "stmt = \"SELECT SUM(quantity) AS 'Total Products' FROM Product\"\n",
    "cursor.execute(stmt)\n",
    "record = cursor.fetchone()\n",
    "print(record)"
   ]
  },
  {
   "cell_type": "code",
   "execution_count": null,
   "id": "77130697",
   "metadata": {},
   "outputs": [],
   "source": [
    "# Query 2\n",
    "\n",
    "stmt = \"SELECT COUNT(category_name) AS 'Total Types of Products' From Category;\"\n",
    "cursor.execute(stmt)\n",
    "record = cursor.fetchall()\n",
    "display(record)"
   ]
  },
  {
   "cell_type": "code",
   "execution_count": null,
   "id": "77130697",
   "metadata": {},
   "outputs": [],
   "source": [
    "# Query 3\n",
    "\n",
    "stmt = \"SELECT DISTINCT product.product_name, SUM(order_items.order_quantity) FROM product, order_items WHERE product.product_id = order_items.product_id GROUP BY order_items.product_id ORDER BY SUM(order_items.order_quantity) DESC LIMIT 20;\"\n",
    "cursor.execute(stmt)\n",
    "record = cursor.fetchall()\n",
    "display(record)"
   ]
  },
  {
   "cell_type": "code",
   "execution_count": null,
   "id": "77130697",
   "metadata": {},
   "outputs": [],
   "source": [
    "# Query 4\n",
    "\n",
    "stmt = \"SELECT manufacturer.manufacturer_name, SUM(order_items.order_quantity) FROM manufacturer, product, order_items WHERE manufacturer.manufacturer_id = product.manufacturer_id AND product.product_id = order_items.product_id GROUP BY manufacturer.manufacturer_name ORDER BY SUM(order_items.order_quantity) DESC LIMIT 10;\"\n",
    "cursor.execute(stmt)\n",
    "record = cursor.fetchall()\n",
    "display(record)"
   ]
  },
  {
   "cell_type": "code",
   "execution_count": null,
   "id": "77130697",
   "metadata": {},
   "outputs": [],
   "source": [
    "# Query 5\n",
    "\n",
    "stmt = \"SELECT category.category_name FROM category, product, order_Items WHERE category.category_id = product.category_id AND product.product_id = order_items.product_id GROUP BY order_items.product_id ORDER BY SUM(order_items.order_quantity) DESC LIMIT 3;\"\n",
    "cursor.execute(stmt)\n",
    "record = cursor.fetchall()\n",
    "print(record)"
   ]
  },
  {
   "cell_type": "code",
   "execution_count": 6,
   "id": "77130697",
   "metadata": {},
   "outputs": [
    {
     "name": "stdout",
     "output_type": "stream",
     "text": [
      "[(4,)]\n"
     ]
    }
   ],
   "source": [
    "# Query 6\n",
    "\n",
    "stmt = \"SELECT COUNT(DISTINCT users.user_id) AS 'Total Customers that Bought Coca-Cola' FROM users, orders, order_items WHERE users.user_id = orders.user_id AND orders.order_id = order_items.order_id AND Role = 'customer' AND order_items.product_id = 29;\"\n",
    "cursor.execute(stmt)\n",
    "record = cursor.fetchall()\n",
    "print(record)"
   ]
  },
  {
   "cell_type": "code",
   "execution_count": null,
   "id": "6a6dedd3",
   "metadata": {},
   "outputs": [],
   "source": [
    "if connection.is_connected():\n",
    "    cursor.close()\n",
    "    connection.close()\n",
    "    print(\"MySQL connection is closed\")"
   ]
  },
  {
   "attachments": {},
   "cell_type": "markdown",
   "id": "36ab42a5",
   "metadata": {},
   "source": [
    "## Database Functions (Functionality) (Section 4)"
   ]
  },
  {
   "attachments": {},
   "cell_type": "markdown",
   "id": "ee90bd08",
   "metadata": {},
   "source": [
    "Create two roles in the database: Customer and Employee. Add users to each role. Create a user as a Guest.\n",
    "\n",
    "\n",
    "- Employees can add/update/delete any customer/product/order tables. (Hint: grant all privileges to the role)\n",
    "- Customers may check available products by keywords (i.e., basic search)\n",
    "- Customers may add multiple products to one order. Only registered users can place orders. Guests cannot place orders\n",
    "- No overselling is allowed. (Hint: add a constraint in the tables to avoid overselling)"
   ]
  },
  {
   "attachments": {},
   "cell_type": "markdown",
   "id": "4947beec",
   "metadata": {},
   "source": [
    "#### Functionalities were implemented in database creation. No python code needed for section 4"
   ]
  },
  {
   "attachments": {},
   "cell_type": "markdown",
   "id": "6885e9b1",
   "metadata": {},
   "source": [
    "## Python Functions (Section 5)"
   ]
  },
  {
   "attachments": {},
   "cell_type": "markdown",
   "id": "b5115b0e",
   "metadata": {},
   "source": [
    "### Create a Python function (or any preferred programming language) to implement the following functions.\n",
    "\n",
    "1. Find the top 20 best-selling products in your store.\n",
    "2. Check available products by keywords.\n",
    "3. Add multiple products to one order"
   ]
  },
  {
   "cell_type": "code",
   "execution_count": null,
   "id": "cc7ad22f",
   "metadata": {},
   "outputs": [
    {
     "name": "stdout",
     "output_type": "stream",
     "text": [
      "Connected to MySQL Server version  8.0.31\n",
      "You're connected to database:  ('econofoods',)\n"
     ]
    }
   ],
   "source": [
    "import mysql.connector\n",
    "from mysql.connector import Error\n",
    "\n",
    "database = \"EconoFoods\"\n",
    "creds = open(\"password.txt\", \"r\")\n",
    "lines = creds.readlines()\n",
    "user_name = lines[0]\n",
    "password = lines[1]\n",
    "creds.close()\n",
    "\n",
    "try:\n",
    "    connection = mysql.connector.connect(host='localhost', database=database, user=user_name, password=password)\n",
    "    if connection.is_connected():\n",
    "        db_Info = connection.get_server_info()\n",
    "        print(\"Connected to MySQL Server version \", db_Info)\n",
    "        cursor = connection.cursor()\n",
    "        cursor.execute(\"select database();\")\n",
    "        record = cursor.fetchone()\n",
    "        print(\"You're connected to database: \", record)\n",
    "except Error as e:\n",
    "    print(\"Error while connecting to MySQL\", e)\n"
   ]
  },
  {
   "cell_type": "code",
   "execution_count": null,
   "id": "57b7bbab",
   "metadata": {},
   "outputs": [],
   "source": [
    "# Functon 1\n",
    "stmt = \"SELECT DISTINCT product.product_name, SUM(order_items.order_quantity) FROM product, order_items WHERE product.product_id = order_items.product_id GROUP BY order_items.product_id ORDER BY SUM(order_items.order_quantity) DESC LIMIT 20;\"\n",
    "cursor.execute(stmt)\n",
    "record = cursor.fetchall()\n",
    "display(record)"
   ]
  },
  {
   "cell_type": "code",
   "execution_count": null,
   "id": "a8439952",
   "metadata": {},
   "outputs": [],
   "source": [
    "# Function 2\n",
    "# prepared statement,  %s within the statement is a parameter marker\n",
    "def search():\n",
    "    stmt = \"SELECT product_name, product_description, quantity, price FROM product NATURAL JOIN category WHERE (product_name = %s OR category_name = %s) AND quantity > 0\"\n",
    "    keyword = str(input())\n",
    "\n",
    "    # execture the prepared statement\n",
    "    cursor.execute(stmt, (keyword, keyword,))\n",
    "\n",
    "    # fetch results\n",
    "    record = cursor.fetchall()\n",
    "    display(record)\n",
    "\n",
    "search()"
   ]
  },
  {
   "cell_type": "code",
   "execution_count": null,
   "id": "66da8805",
   "metadata": {},
   "outputs": [],
   "source": [
    "# Function 3"
   ]
  },
  {
   "cell_type": "code",
   "execution_count": null,
   "id": "6a6dedd3",
   "metadata": {},
   "outputs": [],
   "source": [
    "if connection.is_connected():\n",
    "    cursor.close()\n",
    "    connection.close()\n",
    "    print(\"MySQL connection is closed\")"
   ]
  }
 ],
 "metadata": {
  "kernelspec": {
   "display_name": "Python 3",
   "language": "python",
   "name": "python3"
  },
  "language_info": {
   "codemirror_mode": {
    "name": "ipython",
    "version": 3
   },
   "file_extension": ".py",
   "mimetype": "text/x-python",
   "name": "python",
   "nbconvert_exporter": "python",
   "pygments_lexer": "ipython3",
   "version": "3.10.1"
  },
  "vscode": {
   "interpreter": {
    "hash": "aee8b7b246df8f9039afb4144a1f6fd8d2ca17a180786b69acc140d282b71a49"
   }
  }
 },
 "nbformat": 4,
 "nbformat_minor": 5
}
