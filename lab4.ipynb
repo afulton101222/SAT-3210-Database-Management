{
 "cells": [
  {
   "cell_type": "markdown",
   "id": "c6c09e07",
   "metadata": {},
   "source": [
    "# Lab4 Jupyter Notebook File"
   ]
  },
  {
   "cell_type": "code",
   "execution_count": 30,
   "id": "5221269e",
   "metadata": {},
   "outputs": [
    {
     "name": "stdout",
     "output_type": "stream",
     "text": [
      "Requirement already satisfied: mysql-connector-python in c:\\users\\sat3210\\.conda\\envs\\lab4\\lib\\site-packages (8.0.31)\n",
      "Requirement already satisfied: protobuf<=3.20.1,>=3.11.0 in c:\\users\\sat3210\\.conda\\envs\\lab4\\lib\\site-packages (from mysql-connector-python) (3.20.1)\n",
      "Note: you may need to restart the kernel to use updated packages.\n"
     ]
    }
   ],
   "source": [
    "pip install mysql-connector-python"
   ]
  },
  {
   "cell_type": "markdown",
   "id": "2ef47db9",
   "metadata": {},
   "source": [
    "## Question 1"
   ]
  },
  {
   "cell_type": "code",
   "execution_count": 36,
   "id": "ad2e59a9",
   "metadata": {},
   "outputs": [
    {
     "name": "stdout",
     "output_type": "stream",
     "text": [
      "Connected to MySQL Server version  8.0.30\n",
      "You're connected to database:  ('sat3210',)\n",
      "MySQL connection is closed\n"
     ]
    }
   ],
   "source": [
    "import mysql.connector\n",
    "from mysql.connector import Error\n",
    "\n",
    "# f=open(\"C:\\Users\\sat3210\\Documents\\passwords.txt\",\"r\")\n",
    "# lines=f.readlines()\n",
    "# user_name=lines[0]\n",
    "# password=lines[1]\n",
    "# f.close()\n",
    "\n",
    "database = \"sat3210\"\n",
    "user_name = \"root\"\n",
    "password = \"P@ssw0rd\"\n",
    "\n",
    "try:\n",
    "    connection = mysql.connector.connect(host='localhost', database=database, user=user_name, password=password)\n",
    "    if connection.is_connected():\n",
    "        db_Info = connection.get_server_info()\n",
    "        print(\"Connected to MySQL Server version \", db_Info)\n",
    "        cursor = connection.cursor()\n",
    "        cursor.execute(\"select database();\")\n",
    "        record = cursor.fetchone()\n",
    "        print(\"You're connected to database: \", record)\n",
    "except Error as e:\n",
    "    print(\"Error while connecting to MySQL\", e)\n",
    "    \n",
    "if connection.is_connected():\n",
    "    cursor.close()\n",
    "    connection.close()\n",
    "    print(\"MySQL connection is closed\")    "
   ]
  },
  {
   "cell_type": "markdown",
   "id": "a4a07d52",
   "metadata": {},
   "source": [
    "## Question 2"
   ]
  },
  {
   "cell_type": "code",
   "execution_count": 73,
   "id": "b16ac0aa",
   "metadata": {},
   "outputs": [
    {
     "name": "stdout",
     "output_type": "stream",
     "text": [
      "Connected to MySQL Server version  8.0.30\n",
      "You're connected to database:  ('sat3210',)\n"
     ]
    }
   ],
   "source": [
    "import mysql.connector\n",
    "from mysql.connector import Error\n",
    "\n",
    "# f=open(\"C:\\Users\\sat3210\\Documents\\passwords.txt\",\"r\")\n",
    "# lines=f.readlines()\n",
    "# user_name=lines[0]\n",
    "# password=lines[1]\n",
    "# f.close()\n",
    "\n",
    "database = \"sat3210\"\n",
    "user_name = \"root\"\n",
    "password = \"P@ssw0rd\"\n",
    "\n",
    "try:\n",
    "    connection = mysql.connector.connect(host='localhost', database=database, user=user_name, password=password)\n",
    "    if connection.is_connected():\n",
    "        db_Info = connection.get_server_info()\n",
    "        print(\"Connected to MySQL Server version \", db_Info)\n",
    "        cursor = connection.cursor()\n",
    "        cursor.execute(\"select database();\")\n",
    "        record = cursor.fetchone()\n",
    "        print(\"You're connected to database: \", record)\n",
    "        \n",
    "        \n",
    "except Error as e:\n",
    "    print(\"Error while connecting to MySQL\", e)\n"
   ]
  },
  {
   "cell_type": "markdown",
   "id": "9517aa39",
   "metadata": {},
   "source": [
    "## Defining Query Function"
   ]
  },
  {
   "cell_type": "code",
   "execution_count": 88,
   "id": "c9dd5bda",
   "metadata": {},
   "outputs": [
    {
     "name": "stdout",
     "output_type": "stream",
     "text": [
      "[('00128', 'Zhang', 'Comp. Sci.', Decimal('102')), ('12345', 'Shankar', 'Comp. Sci.', Decimal('32')), ('19991', 'Brandt', 'History', Decimal('80')), ('23121', 'Chavez', 'Finance', Decimal('110')), ('44553', 'Peltier', 'Physics', Decimal('56')), ('45678', 'Levy', 'Physics', Decimal('46')), ('54321', 'Williams', 'Comp. Sci.', Decimal('54')), ('55739', 'Sanchez', 'Music', Decimal('38')), ('70557', 'Snow', 'Physics', Decimal('0')), ('76543', 'Brown', 'Comp. Sci.', Decimal('58')), ('76653', 'Aoi', 'Elec. Eng.', Decimal('60')), ('98765', 'Bourikas', 'Elec. Eng.', Decimal('98')), ('98988', 'Tanaka', 'Biology', Decimal('120'))]\n"
     ]
    }
   ],
   "source": [
    "def query(relation_name):    \n",
    "    if connection.is_connected():\n",
    "\n",
    "        cursor = connection.cursor(prepared=True)\n",
    "\n",
    "        # prepared statement,  %s within the statement is a parameter marker\n",
    "        stmt = \"SELECT * FROM \" + relation_name + \";\"\n",
    "\n",
    "        # execture the prepared statement\n",
    "        cursor.execute(stmt)\n",
    "\n",
    "        # fetch results\n",
    "        record = cursor.fetchall()\n",
    "        print(record)\n",
    "        \n",
    "query(\"student\")"
   ]
  },
  {
   "cell_type": "markdown",
   "id": "c79daf5a",
   "metadata": {},
   "source": [
    "## Question 3 "
   ]
  },
  {
   "cell_type": "code",
   "execution_count": 98,
   "id": "74e4bfd5",
   "metadata": {},
   "outputs": [
    {
     "name": "stdout",
     "output_type": "stream",
     "text": [
      "[('12345', 'Shankar', 'Comp. Sci.', Decimal('32'))]\n",
      "[('12121', 'Wu', 'Finance', Decimal('90000.00'))]\n"
     ]
    }
   ],
   "source": [
    "def query(relation_name, condition):    \n",
    "    if connection.is_connected():\n",
    "\n",
    "        cursor = connection.cursor(prepared=True)\n",
    "\n",
    "        # prepared statement,  %s within the statement is a parameter marker\n",
    "        stmt = \"SELECT * FROM \" + relation_name + \" WHERE \" + condition + \";\"\n",
    "\n",
    "        # execture the prepared statement\n",
    "        cursor.execute(stmt)\n",
    "\n",
    "        # fetch results\n",
    "        record = cursor.fetchall()\n",
    "        print(record)\n",
    "        \n",
    "        \n",
    "query(\"student\", 'ID like \"12345\"')        \n",
    "query(\"instructor\", 'ID like \"12121\"')"
   ]
  },
  {
   "cell_type": "markdown",
   "id": "f3a9f05b",
   "metadata": {},
   "source": [
    "## Question 4"
   ]
  },
  {
   "cell_type": "code",
   "execution_count": 104,
   "id": "e7edb676",
   "metadata": {},
   "outputs": [
    {
     "ename": "InterfaceError",
     "evalue": "Error while executing statement: Duplicate entry '99999' for key 'instructor.PRIMARY'",
     "output_type": "error",
     "traceback": [
      "\u001b[1;31m---------------------------------------------------------------------------\u001b[0m",
      "\u001b[1;31mMySQLInterfaceError\u001b[0m                       Traceback (most recent call last)",
      "File \u001b[1;32m~\\.conda\\envs\\lab4\\lib\\site-packages\\mysql\\connector\\connection_cext.py:532\u001b[0m, in \u001b[0;36mCMySQLConnection.cmd_stmt_execute\u001b[1;34m(self, statement_id, *args)\u001b[0m\n\u001b[0;32m    531\u001b[0m \u001b[38;5;28;01mtry\u001b[39;00m:\n\u001b[1;32m--> 532\u001b[0m     \u001b[43mstatement_id\u001b[49m\u001b[38;5;241;43m.\u001b[39;49m\u001b[43mstmt_execute\u001b[49m\u001b[43m(\u001b[49m\u001b[38;5;241;43m*\u001b[39;49m\u001b[43margs\u001b[49m\u001b[43m)\u001b[49m\n\u001b[0;32m    533\u001b[0m \u001b[38;5;28;01mexcept\u001b[39;00m MySQLInterfaceError \u001b[38;5;28;01mas\u001b[39;00m err:\n",
      "\u001b[1;31mMySQLInterfaceError\u001b[0m: Error while executing statement: Duplicate entry '99999' for key 'instructor.PRIMARY'",
      "\nThe above exception was the direct cause of the following exception:\n",
      "\u001b[1;31mInterfaceError\u001b[0m                            Traceback (most recent call last)",
      "Input \u001b[1;32mIn [104]\u001b[0m, in \u001b[0;36m<cell line: 17>\u001b[1;34m()\u001b[0m\n\u001b[0;32m     14\u001b[0m         record \u001b[38;5;241m=\u001b[39m cursor\u001b[38;5;241m.\u001b[39mfetchall()\n\u001b[0;32m     15\u001b[0m         \u001b[38;5;28mprint\u001b[39m(record)\n\u001b[1;32m---> 17\u001b[0m \u001b[43maddNewRows\u001b[49m\u001b[43m(\u001b[49m\u001b[38;5;241;43m99999\u001b[39;49m\u001b[43m,\u001b[49m\u001b[43m \u001b[49m\u001b[38;5;124;43m\"\u001b[39;49m\u001b[38;5;124;43mJaklic\u001b[39;49m\u001b[38;5;124;43m\"\u001b[39;49m\u001b[43m,\u001b[49m\u001b[43m \u001b[49m\u001b[38;5;124;43m\"\u001b[39;49m\u001b[38;5;124;43mComp. Sci.\u001b[39;49m\u001b[38;5;124;43m\"\u001b[39;49m\u001b[43m,\u001b[49m\u001b[43m \u001b[49m\u001b[38;5;241;43m75000\u001b[39;49m\u001b[43m)\u001b[49m\n\u001b[0;32m     18\u001b[0m addNewRows(\u001b[38;5;241m88888\u001b[39m, \u001b[38;5;124m\"\u001b[39m\u001b[38;5;124mAdragna\u001b[39m\u001b[38;5;124m\"\u001b[39m, \u001b[38;5;124m\"\u001b[39m\u001b[38;5;124mFinance\u001b[39m\u001b[38;5;124m\"\u001b[39m, \u001b[38;5;241m80000\u001b[39m)\n\u001b[0;32m     19\u001b[0m addNewRows(\u001b[38;5;241m77777\u001b[39m, \u001b[38;5;124m\"\u001b[39m\u001b[38;5;124mRixom\u001b[39m\u001b[38;5;124m\"\u001b[39m, \u001b[38;5;124m\"\u001b[39m\u001b[38;5;124mMusic\u001b[39m\u001b[38;5;124m\"\u001b[39m, \u001b[38;5;241m33000\u001b[39m)\n",
      "Input \u001b[1;32mIn [104]\u001b[0m, in \u001b[0;36maddNewRows\u001b[1;34m(ID, name, dept_name, salary)\u001b[0m\n\u001b[0;32m      9\u001b[0m stmt2 \u001b[38;5;241m=\u001b[39m \u001b[38;5;124m\"\u001b[39m\u001b[38;5;124mSELECT * FROM instructor;\u001b[39m\u001b[38;5;124m\"\u001b[39m\n\u001b[0;32m     10\u001b[0m \u001b[38;5;66;03m# execture the prepared statement\u001b[39;00m\n\u001b[1;32m---> 11\u001b[0m \u001b[43mcursor\u001b[49m\u001b[38;5;241;43m.\u001b[39;49m\u001b[43mexecute\u001b[49m\u001b[43m(\u001b[49m\u001b[43mstmt\u001b[49m\u001b[43m,\u001b[49m\u001b[43m \u001b[49m\u001b[43m(\u001b[49m\u001b[43mID\u001b[49m\u001b[43m,\u001b[49m\u001b[43m \u001b[49m\u001b[43mname\u001b[49m\u001b[43m,\u001b[49m\u001b[43m \u001b[49m\u001b[43mdept_name\u001b[49m\u001b[43m,\u001b[49m\u001b[43m \u001b[49m\u001b[43msalary\u001b[49m\u001b[43m)\u001b[49m\u001b[43m)\u001b[49m\n\u001b[0;32m     13\u001b[0m \u001b[38;5;66;03m# fetch results\u001b[39;00m\n\u001b[0;32m     14\u001b[0m record \u001b[38;5;241m=\u001b[39m cursor\u001b[38;5;241m.\u001b[39mfetchall()\n",
      "File \u001b[1;32m~\\.conda\\envs\\lab4\\lib\\site-packages\\mysql\\connector\\cursor_cext.py:1098\u001b[0m, in \u001b[0;36mCMySQLCursorPrepared.execute\u001b[1;34m(self, operation, params, multi)\u001b[0m\n\u001b[0;32m   1096\u001b[0m \u001b[38;5;28;01mif\u001b[39;00m params \u001b[38;5;129;01mis\u001b[39;00m \u001b[38;5;28;01mNone\u001b[39;00m:\n\u001b[0;32m   1097\u001b[0m     params \u001b[38;5;241m=\u001b[39m ()\n\u001b[1;32m-> 1098\u001b[0m res \u001b[38;5;241m=\u001b[39m \u001b[38;5;28;43mself\u001b[39;49m\u001b[38;5;241;43m.\u001b[39;49m\u001b[43m_cnx\u001b[49m\u001b[38;5;241;43m.\u001b[39;49m\u001b[43mcmd_stmt_execute\u001b[49m\u001b[43m(\u001b[49m\u001b[38;5;28;43mself\u001b[39;49m\u001b[38;5;241;43m.\u001b[39;49m\u001b[43m_stmt\u001b[49m\u001b[43m,\u001b[49m\u001b[43m \u001b[49m\u001b[38;5;241;43m*\u001b[39;49m\u001b[43mparams\u001b[49m\u001b[43m)\u001b[49m\n\u001b[0;32m   1099\u001b[0m \u001b[38;5;28;01mif\u001b[39;00m res:\n\u001b[0;32m   1100\u001b[0m     \u001b[38;5;28mself\u001b[39m\u001b[38;5;241m.\u001b[39m_handle_result(res)\n",
      "File \u001b[1;32m~\\.conda\\envs\\lab4\\lib\\site-packages\\mysql\\connector\\connection_cext.py:534\u001b[0m, in \u001b[0;36mCMySQLConnection.cmd_stmt_execute\u001b[1;34m(self, statement_id, *args)\u001b[0m\n\u001b[0;32m    532\u001b[0m     statement_id\u001b[38;5;241m.\u001b[39mstmt_execute(\u001b[38;5;241m*\u001b[39margs)\n\u001b[0;32m    533\u001b[0m \u001b[38;5;28;01mexcept\u001b[39;00m MySQLInterfaceError \u001b[38;5;28;01mas\u001b[39;00m err:\n\u001b[1;32m--> 534\u001b[0m     \u001b[38;5;28;01mraise\u001b[39;00m InterfaceError(\u001b[38;5;28mstr\u001b[39m(err)) \u001b[38;5;28;01mfrom\u001b[39;00m \u001b[38;5;21;01merr\u001b[39;00m\n\u001b[0;32m    536\u001b[0m \u001b[38;5;28mself\u001b[39m\u001b[38;5;241m.\u001b[39m_columns \u001b[38;5;241m=\u001b[39m []\n\u001b[0;32m    537\u001b[0m \u001b[38;5;28;01mif\u001b[39;00m \u001b[38;5;129;01mnot\u001b[39;00m statement_id\u001b[38;5;241m.\u001b[39mhave_result_set:\n\u001b[0;32m    538\u001b[0m     \u001b[38;5;66;03m# No result\u001b[39;00m\n",
      "\u001b[1;31mInterfaceError\u001b[0m: Error while executing statement: Duplicate entry '99999' for key 'instructor.PRIMARY'"
     ]
    }
   ],
   "source": [
    "def addNewRows(ID, name, dept_name, salary):    \n",
    "    if connection.is_connected():\n",
    "\n",
    "        cursor = connection.cursor(prepared=True)\n",
    "\n",
    "        # prepared statement,  %s within the statement is a parameter marker\n",
    "        # stmt = \"SELECT * FROM \" + relation_name + \" WHERE \" + condition + \";\"\n",
    "        stmt = \"INSERT INTO instructor VALUES(?,?,?,?);\"\n",
    "        stmt2 = \"SELECT * FROM instructor;\"\n",
    "        # execture the prepared statement\n",
    "        cursor.execute(stmt, (ID, name, dept_name, salary))\n",
    "        \n",
    "        # fetch results\n",
    "        record = cursor.fetchall()\n",
    "        print(record)\n",
    "        \n",
    "addNewRows(99999, \"Jaklic\", \"Comp. Sci.\", 75000)\n",
    "addNewRows(88888, \"Adragna\", \"Finance\", 80000)\n",
    "addNewRows(77777, \"Rixom\", \"Music\", 33000)\n",
    "addNewRows(66666, \"LaBine\", \"Physics\", 98000)"
   ]
  },
  {
   "cell_type": "code",
   "execution_count": 105,
   "id": "a0a404ae",
   "metadata": {},
   "outputs": [
    {
     "name": "stdout",
     "output_type": "stream",
     "text": [
      "[('10101', 'Srinivasan', 'Comp. Sci.', Decimal('65000.00')), ('12121', 'Wu', 'Finance', Decimal('90000.00')), ('15151', 'Mozart', 'Music', Decimal('40000.00')), ('22222', 'Einstein', 'Physics', Decimal('95000.00')), ('32343', 'El Said', 'History', Decimal('60000.00')), ('33456', 'Gold', 'Physics', Decimal('87000.00')), ('45565', 'Katz', 'Comp. Sci.', Decimal('75000.00')), ('58583', 'Califieri', 'History', Decimal('62000.00')), ('66666', 'LaBine', 'Physics', Decimal('98000.00')), ('76543', 'Singh', 'Finance', Decimal('80000.00')), ('76766', 'Crick', 'Biology', Decimal('72000.00')), ('77777', 'Rixom', 'Music', Decimal('33000.00')), ('83821', 'Brandt', 'Comp. Sci.', Decimal('92000.00')), ('88888', 'Adragna', 'Finance', Decimal('80000.00')), ('98345', 'Kim', 'Elec. Eng.', Decimal('80000.00')), ('99999', 'Jaklic', 'Comp. Sci.', Decimal('75000.00'))]\n"
     ]
    }
   ],
   "source": [
    "cursor.execute(\"SELECT * FROM instructor;\")\n",
    "record = cursor.fetchall()\n",
    "print(record)"
   ]
  },
  {
   "cell_type": "markdown",
   "id": "0b97256c",
   "metadata": {},
   "source": [
    "## Close Connection"
   ]
  },
  {
   "cell_type": "code",
   "execution_count": 68,
   "id": "9429f659",
   "metadata": {},
   "outputs": [
    {
     "name": "stdout",
     "output_type": "stream",
     "text": [
      "MySQL connection is closed\n"
     ]
    }
   ],
   "source": [
    "if connection.is_connected():\n",
    "    cursor.close()\n",
    "    connection.close()\n",
    "    print(\"MySQL connection is closed\")    "
   ]
  },
  {
   "cell_type": "code",
   "execution_count": null,
   "id": "69dd2e87",
   "metadata": {},
   "outputs": [],
   "source": []
  },
  {
   "cell_type": "code",
   "execution_count": null,
   "id": "44c29bfd",
   "metadata": {},
   "outputs": [],
   "source": []
  }
 ],
 "metadata": {
  "kernelspec": {
   "display_name": "Python 3 (ipykernel)",
   "language": "python",
   "name": "python3"
  },
  "language_info": {
   "codemirror_mode": {
    "name": "ipython",
    "version": 3
   },
   "file_extension": ".py",
   "mimetype": "text/x-python",
   "name": "python",
   "nbconvert_exporter": "python",
   "pygments_lexer": "ipython3",
   "version": "3.9.13"
  }
 },
 "nbformat": 4,
 "nbformat_minor": 5
}
