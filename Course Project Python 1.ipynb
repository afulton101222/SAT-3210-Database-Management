{
 "cells": [
  {
   "cell_type": "markdown",
   "id": "db613f1b",
   "metadata": {},
   "source": [
    "# SAT 3210 Database Management Course Project"
   ]
  },
  {
   "attachments": {},
   "cell_type": "markdown",
   "id": "a0ce0d61",
   "metadata": {},
   "source": [
    "### Initial Code\n",
    "\n",
    "We first need to install the mysql connector and connect to the database"
   ]
  },
  {
   "cell_type": "code",
   "execution_count": null,
   "id": "29161d87",
   "metadata": {},
   "outputs": [],
   "source": [
    "pip install mysql-connector-python"
   ]
  },
  {
   "cell_type": "code",
   "execution_count": null,
   "id": "cc7ad22f",
   "metadata": {},
   "outputs": [],
   "source": [
    "import mysql.connector\n",
    "from mysql.connector import Error\n",
    "\n",
    "database = \"sat3210\"\n",
    "user_name = \"root\"\n",
    "password = \"password\"\n",
    "\n",
    "try:\n",
    "    connection = mysql.connector.connect(host='localhost', database=database, user=user_name, password=password)\n",
    "    if connection.is_connected():\n",
    "        db_Info = connection.get_server_info()\n",
    "        print(\"Connected to MySQL Server version \", db_Info)\n",
    "        cursor = connection.cursor()\n",
    "        cursor.execute(\"select database();\")\n",
    "        record = cursor.fetchone()\n",
    "        print(\"You're connected to database: \", record)\n",
    "except Error as e:\n",
    "    print(\"Error while connecting to MySQL\", e)"
   ]
  },
  {
   "cell_type": "markdown",
   "id": "004c0538",
   "metadata": {},
   "source": [
    "## Populate Relations (Section 2)\n",
    "\n",
    "Include enough data to make answers to your queries interesting and nontrivial for test purposes. For simplicity, perfectly realistic data is not required. Where appropriate, randomly generated data are acceptable (and a good way to avoid having lots of data entry). (Hint: It may be helpful to write a program to generate test data.)"
   ]
  },
  {
   "cell_type": "code",
   "execution_count": null,
   "id": "b4d3a536",
   "metadata": {},
   "outputs": [],
   "source": []
  },
  {
   "cell_type": "markdown",
   "id": "a536e2db",
   "metadata": {},
   "source": [
    "## Database Queries (Section 3)\n",
    "\n",
    "\n",
    "\n"
   ]
  },
  {
   "attachments": {},
   "cell_type": "markdown",
   "id": "23cba4cf",
   "metadata": {},
   "source": [
    "How many products are in your store? \\\n",
    "How many types of products are in your store? \\\n",
    "What are the top 20 best-selling products in your store? \\\n",
    "Who are the top 10 best-selling vendors in your store? \\\n",
    "What are the top 3 types of products that customers buy? \\\n",
    "How many customers have purchased diet Pepsi? (Or a similar question for nonfood enterprises.)"
   ]
  },
  {
   "cell_type": "code",
   "execution_count": null,
   "id": "728c55b6",
   "metadata": {},
   "outputs": [],
   "source": [
    "SELECT SUM(quantity) AS “Total Products” FROM product;"
   ]
  },
  {
   "cell_type": "code",
   "execution_count": null,
   "id": "a28127d7",
   "metadata": {},
   "outputs": [],
   "source": [
    "SELECT COUNT(category_name) AS “Total Types of Products” From Category;"
   ]
  },
  {
   "cell_type": "code",
   "execution_count": null,
   "id": "6fc49337",
   "metadata": {},
   "outputs": [],
   "source": [
    "SELECT product.product_name FROM product, order_items WHERE product.product_id = order_items.product_id GROUP BY product.product_id ORDER BY order_items.order_quantity DESC LIMIT 20;"
   ]
  },
  {
   "cell_type": "code",
   "execution_count": null,
   "id": "8a9103f0",
   "metadata": {},
   "outputs": [],
   "source": [
    "SELECT manufacturer.manufacturer_name FROM manufacturer, product, order_items WHERE manufacturer.manufacturer_id = product.manufacturer_id AND product.product_id = order_items.product_id GROUP BY manufacturer.manufacturer_id ORDER BY order_items.order_quantity DESC LIMIT 10;"
   ]
  },
  {
   "cell_type": "code",
   "execution_count": null,
   "id": "6b759cc5",
   "metadata": {},
   "outputs": [],
   "source": [
    "SELECT category.category_name FROM category, product, order_Items WHERE category.category_id = product.category_id AND product.product_id = order_items.product_id GROUP BY category.category_id ORDER BY order_items.order_quantity DESC LIMIT 3;"
   ]
  },
  {
   "cell_type": "code",
   "execution_count": null,
   "id": "2abb764e",
   "metadata": {},
   "outputs": [],
   "source": [
    "SELECT COUNT(users.user_id) AS 'Total Customers that Bought Coca-Cola' FROM users, orders, order_items WHERE users.user_id = orders.user_id AND orders.order_id = order_items.order_id AND Role = \"customer\" AND order_items.product_id = 29 GROUP BY users.user_id;"
   ]
  },
  {
   "cell_type": "code",
   "execution_count": null,
   "id": "6a6dedd3",
   "metadata": {},
   "outputs": [],
   "source": [
    "if connection.is_connected():\n",
    "    cursor.close()\n",
    "    connection.close()\n",
    "    print(\"MySQL connection is closed\")"
   ]
  },
  {
   "cell_type": "code",
   "execution_count": null,
   "id": "9653b2d8",
   "metadata": {},
   "outputs": [],
   "source": [
    "cursor = connection.cursor(prepared=True)"
   ]
  },
  {
   "cell_type": "code",
   "execution_count": 4,
   "id": "57b7bbab",
   "metadata": {},
   "outputs": [
    {
     "ename": "ProgrammingError",
     "evalue": "1146 (42S02): Table 'sat3210.product' doesn't exist",
     "output_type": "error",
     "traceback": [
      "\u001b[1;31m---------------------------------------------------------------------------\u001b[0m",
      "\u001b[1;31mMySQLInterfaceError\u001b[0m                       Traceback (most recent call last)",
      "File \u001b[1;32mc:\\Users\\Zach Heimer\\AppData\\Local\\Programs\\Python\\Python310\\lib\\site-packages\\mysql\\connector\\connection_cext.py:555\u001b[0m, in \u001b[0;36mCMySQLConnection.cmd_query\u001b[1;34m(self, query, raw, buffered, raw_as_string)\u001b[0m\n\u001b[0;32m    554\u001b[0m         query \u001b[39m=\u001b[39m query\u001b[39m.\u001b[39mencode(\u001b[39m\"\u001b[39m\u001b[39mutf-8\u001b[39m\u001b[39m\"\u001b[39m)\n\u001b[1;32m--> 555\u001b[0m     \u001b[39mself\u001b[39;49m\u001b[39m.\u001b[39;49m_cmysql\u001b[39m.\u001b[39;49mquery(\n\u001b[0;32m    556\u001b[0m         query,\n\u001b[0;32m    557\u001b[0m         raw\u001b[39m=\u001b[39;49mraw,\n\u001b[0;32m    558\u001b[0m         buffered\u001b[39m=\u001b[39;49mbuffered,\n\u001b[0;32m    559\u001b[0m         raw_as_string\u001b[39m=\u001b[39;49mraw_as_string,\n\u001b[0;32m    560\u001b[0m         query_attrs\u001b[39m=\u001b[39;49m\u001b[39mself\u001b[39;49m\u001b[39m.\u001b[39;49m_query_attrs,\n\u001b[0;32m    561\u001b[0m     )\n\u001b[0;32m    562\u001b[0m \u001b[39mexcept\u001b[39;00m MySQLInterfaceError \u001b[39mas\u001b[39;00m err:\n",
      "\u001b[1;31mMySQLInterfaceError\u001b[0m: Table 'sat3210.product' doesn't exist",
      "\nThe above exception was the direct cause of the following exception:\n",
      "\u001b[1;31mProgrammingError\u001b[0m                          Traceback (most recent call last)",
      "Cell \u001b[1;32mIn [4], line 4\u001b[0m\n\u001b[0;32m      1\u001b[0m stmt \u001b[39m=\u001b[39m \u001b[39m\"\u001b[39m\u001b[39mSELECT name FROM Product WHERE Product_id = (SELECT product_id FROM Sale_Product GROUP BY product_id ORDER BY quantity DESC LIMIT 20);\u001b[39m\u001b[39m\"\u001b[39m\n\u001b[0;32m      3\u001b[0m \u001b[39m# execture the prepared statement\u001b[39;00m\n\u001b[1;32m----> 4\u001b[0m cursor\u001b[39m.\u001b[39;49mexecute(stmt)\n\u001b[0;32m      6\u001b[0m \u001b[39m# fetch results\u001b[39;00m\n\u001b[0;32m      7\u001b[0m record \u001b[39m=\u001b[39m cursor\u001b[39m.\u001b[39mfetchall()\n",
      "File \u001b[1;32mc:\\Users\\Zach Heimer\\AppData\\Local\\Programs\\Python\\Python310\\lib\\site-packages\\mysql\\connector\\cursor_cext.py:276\u001b[0m, in \u001b[0;36mCMySQLCursor.execute\u001b[1;34m(self, operation, params, multi)\u001b[0m\n\u001b[0;32m    271\u001b[0m             \u001b[39mraise\u001b[39;00m ProgrammingError(\n\u001b[0;32m    272\u001b[0m                 \u001b[39m\"\u001b[39m\u001b[39mNot all parameters were used in the SQL statement\u001b[39m\u001b[39m\"\u001b[39m\n\u001b[0;32m    273\u001b[0m             )\n\u001b[0;32m    275\u001b[0m \u001b[39mtry\u001b[39;00m:\n\u001b[1;32m--> 276\u001b[0m     result \u001b[39m=\u001b[39m \u001b[39mself\u001b[39;49m\u001b[39m.\u001b[39;49m_cnx\u001b[39m.\u001b[39;49mcmd_query(\n\u001b[0;32m    277\u001b[0m         stmt,\n\u001b[0;32m    278\u001b[0m         raw\u001b[39m=\u001b[39;49m\u001b[39mself\u001b[39;49m\u001b[39m.\u001b[39;49m_raw,\n\u001b[0;32m    279\u001b[0m         buffered\u001b[39m=\u001b[39;49m\u001b[39mself\u001b[39;49m\u001b[39m.\u001b[39;49m_buffered,\n\u001b[0;32m    280\u001b[0m         raw_as_string\u001b[39m=\u001b[39;49m\u001b[39mself\u001b[39;49m\u001b[39m.\u001b[39;49m_raw_as_string,\n\u001b[0;32m    281\u001b[0m     )\n\u001b[0;32m    282\u001b[0m \u001b[39mexcept\u001b[39;00m MySQLInterfaceError \u001b[39mas\u001b[39;00m err:\n\u001b[0;32m    283\u001b[0m     \u001b[39mraise\u001b[39;00m get_mysql_exception(\n\u001b[0;32m    284\u001b[0m         msg\u001b[39m=\u001b[39merr\u001b[39m.\u001b[39mmsg, errno\u001b[39m=\u001b[39merr\u001b[39m.\u001b[39merrno, sqlstate\u001b[39m=\u001b[39merr\u001b[39m.\u001b[39msqlstate\n\u001b[0;32m    285\u001b[0m     ) \u001b[39mfrom\u001b[39;00m \u001b[39merr\u001b[39;00m\n",
      "File \u001b[1;32mc:\\Users\\Zach Heimer\\AppData\\Local\\Programs\\Python\\Python310\\lib\\site-packages\\mysql\\connector\\connection_cext.py:563\u001b[0m, in \u001b[0;36mCMySQLConnection.cmd_query\u001b[1;34m(self, query, raw, buffered, raw_as_string)\u001b[0m\n\u001b[0;32m    555\u001b[0m     \u001b[39mself\u001b[39m\u001b[39m.\u001b[39m_cmysql\u001b[39m.\u001b[39mquery(\n\u001b[0;32m    556\u001b[0m         query,\n\u001b[0;32m    557\u001b[0m         raw\u001b[39m=\u001b[39mraw,\n\u001b[1;32m   (...)\u001b[0m\n\u001b[0;32m    560\u001b[0m         query_attrs\u001b[39m=\u001b[39m\u001b[39mself\u001b[39m\u001b[39m.\u001b[39m_query_attrs,\n\u001b[0;32m    561\u001b[0m     )\n\u001b[0;32m    562\u001b[0m \u001b[39mexcept\u001b[39;00m MySQLInterfaceError \u001b[39mas\u001b[39;00m err:\n\u001b[1;32m--> 563\u001b[0m     \u001b[39mraise\u001b[39;00m get_mysql_exception(\n\u001b[0;32m    564\u001b[0m         err\u001b[39m.\u001b[39merrno, msg\u001b[39m=\u001b[39merr\u001b[39m.\u001b[39mmsg, sqlstate\u001b[39m=\u001b[39merr\u001b[39m.\u001b[39msqlstate\n\u001b[0;32m    565\u001b[0m     ) \u001b[39mfrom\u001b[39;00m \u001b[39merr\u001b[39;00m\n\u001b[0;32m    566\u001b[0m \u001b[39mexcept\u001b[39;00m \u001b[39mAttributeError\u001b[39;00m \u001b[39mas\u001b[39;00m err:\n\u001b[0;32m    567\u001b[0m     addr \u001b[39m=\u001b[39m (\n\u001b[0;32m    568\u001b[0m         \u001b[39mself\u001b[39m\u001b[39m.\u001b[39m_unix_socket \u001b[39mif\u001b[39;00m \u001b[39mself\u001b[39m\u001b[39m.\u001b[39m_unix_socket \u001b[39melse\u001b[39;00m \u001b[39mf\u001b[39m\u001b[39m\"\u001b[39m\u001b[39m{\u001b[39;00m\u001b[39mself\u001b[39m\u001b[39m.\u001b[39m_host\u001b[39m}\u001b[39;00m\u001b[39m:\u001b[39m\u001b[39m{\u001b[39;00m\u001b[39mself\u001b[39m\u001b[39m.\u001b[39m_port\u001b[39m}\u001b[39;00m\u001b[39m\"\u001b[39m\n\u001b[0;32m    569\u001b[0m     )\n",
      "\u001b[1;31mProgrammingError\u001b[0m: 1146 (42S02): Table 'sat3210.product' doesn't exist"
     ]
    }
   ],
   "source": [
    "stmt = \"SELECT name FROM Product WHERE Product_id = (SELECT product_id FROM Sale_Product GROUP BY product_id ORDER BY quantity DESC LIMIT 20);\"\n",
    "\n",
    "# execture the prepared statement\n",
    "cursor.execute(stmt)\n",
    "\n",
    "# fetch results\n",
    "record = cursor.fetchall()\n",
    "print(record)"
   ]
  },
  {
   "cell_type": "code",
   "execution_count": null,
   "id": "9f367918",
   "metadata": {},
   "outputs": [],
   "source": [
    "# prepared statement,  %s within the statement is a parameter marker\n",
    "def search:\n",
    "    stmt = \"SELECT name FROM Product WHERE (name = %s OR category = %s) AND quantity > 0\"\n",
    "\n",
    "    keyword = str(input())\n",
    "\n",
    "    # execture the prepared statement\n",
    "    cursor.execute(stmt, (keyword, keyword,))\n",
    "\n",
    "    # fetch results\n",
    "    record = cursor.fetchall()\n",
    "    print(record)\n",
    "    \n",
    "search()"
   ]
  }
 ],
 "metadata": {
  "kernelspec": {
   "display_name": "Python 3.10.1 64-bit",
   "language": "python",
   "name": "python3"
  },
  "language_info": {
   "codemirror_mode": {
    "name": "ipython",
    "version": 3
   },
   "file_extension": ".py",
   "mimetype": "text/x-python",
   "name": "python",
   "nbconvert_exporter": "python",
   "pygments_lexer": "ipython3",
   "version": "3.10.1"
  },
  "vscode": {
   "interpreter": {
    "hash": "aee8b7b246df8f9039afb4144a1f6fd8d2ca17a180786b69acc140d282b71a49"
   }
  }
 },
 "nbformat": 4,
 "nbformat_minor": 5
}
