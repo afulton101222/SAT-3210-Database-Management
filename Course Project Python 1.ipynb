{
 "cells": [
  {
   "cell_type": "markdown",
   "id": "db613f1b",
   "metadata": {},
   "source": [
    "# SAT 3210 Database Management Course Project"
   ]
  },
  {
   "attachments": {},
   "cell_type": "markdown",
   "id": "a0ce0d61",
   "metadata": {},
   "source": [
    "### Initial Code\n",
    "\n",
    "We first need to install the mysql connector and connect to the database"
   ]
  },
  {
   "cell_type": "code",
   "execution_count": null,
   "id": "29161d87",
   "metadata": {},
   "outputs": [],
   "source": [
    "pip install mysql-connector-python"
   ]
  },
  {
   "cell_type": "code",
   "execution_count": null,
   "id": "cc7ad22f",
   "metadata": {},
   "outputs": [],
   "source": [
    "import mysql.connector\n",
    "from mysql.connector import Error\n",
    "\n",
    "database = \"sat3210\"\n",
    "user_name = \"root\"\n",
    "password = \"password\"\n",
    "\n",
    "try:\n",
    "    connection = mysql.connector.connect(host='localhost', database=database, user=user_name, password=password)\n",
    "    if connection.is_connected():\n",
    "        db_Info = connection.get_server_info()\n",
    "        print(\"Connected to MySQL Server version \", db_Info)\n",
    "        cursor = connection.cursor()\n",
    "        cursor.execute(\"select database();\")\n",
    "        record = cursor.fetchone()\n",
    "        print(\"You're connected to database: \", record)\n",
    "except Error as e:\n",
    "    print(\"Error while connecting to MySQL\", e)"
   ]
  },
  {
   "cell_type": "markdown",
   "id": "004c0538",
   "metadata": {},
   "source": [
    "## Populate Relations (Section 2)\n",
    "\n",
    "Include enough data to make answers to your queries interesting and nontrivial for test purposes. For simplicity, perfectly realistic data is not required. Where appropriate, randomly generated data are acceptable (and a good way to avoid having lots of data entry). (Hint: It may be helpful to write a program to generate test data.)"
   ]
  },
  {
   "cell_type": "code",
   "execution_count": null,
   "id": "b4d3a536",
   "metadata": {},
   "outputs": [],
   "source": []
  },
  {
   "cell_type": "markdown",
   "id": "a536e2db",
   "metadata": {},
   "source": [
    "## Database Queries (Section 3)\n",
    "\n",
    "\n",
    "\n"
   ]
  },
  {
   "attachments": {},
   "cell_type": "markdown",
   "id": "23cba4cf",
   "metadata": {},
   "source": [
    "How many products are in your store? \\\n",
    "How many types of products are in your store? \\\n",
    "What are the top 20 best-selling products in your store? \\\n",
    "Who are the top 10 best-selling vendors in your store? \\\n",
    "What are the top 3 types of products that customers buy? \\\n",
    "How many customers have purchased diet Pepsi? (Or a similar question for nonfood enterprises.)"
   ]
  },
  {
   "cell_type": "code",
   "execution_count": null,
   "id": "728c55b6",
   "metadata": {},
   "outputs": [],
   "source": [
    "SELECT SUM(quantity) AS “Total Products” FROM product;"
   ]
  },
  {
   "cell_type": "code",
   "execution_count": null,
   "id": "a28127d7",
   "metadata": {},
   "outputs": [],
   "source": [
    "SELECT COUNT(category_name) AS “Total Types of Products” From Category;"
   ]
  },
  {
   "cell_type": "code",
   "execution_count": null,
   "id": "6fc49337",
   "metadata": {},
   "outputs": [],
   "source": [
    "SELECT product.product_name FROM product, order_items WHERE product.product_id = order_items.product_id GROUP BY product.product_id ORDER BY order_items.order_quantity DESC LIMIT 20;"
   ]
  },
  {
   "cell_type": "code",
   "execution_count": null,
   "id": "8a9103f0",
   "metadata": {},
   "outputs": [],
   "source": [
    "SELECT manufacturer.manufacturer_name FROM manufacturer, product, order_items WHERE manufacturer.manufacturer_id = product.manufacturer_id AND product.product_id = order_items.product_id GROUP BY manufacturer_id ORDER BY order_quantity DESC LIMIT 10;"
   ]
  },
  {
   "cell_type": "code",
   "execution_count": null,
   "id": "6b759cc5",
   "metadata": {},
   "outputs": [],
   "source": [
    "SELECT category_name FROM category NATURAL JOIN product NATURAL JOIN order_Items GROUP BY category_id ORDER BY order_quantity DESC LIMIT 3;"
   ]
  },
  {
   "cell_type": "code",
   "execution_count": null,
   "id": "2abb764e",
   "metadata": {},
   "outputs": [],
   "source": [
    "SELECT COUNT(user_id) AS “Total Customers that Bought Coca-Cola” FROM users NATURAL JOIN orders NATURAL JOIN order_items WHERE Role = “customer” AND product_id = 29 GROUP BY user_id; "
   ]
  },
  {
   "cell_type": "code",
   "execution_count": null,
   "id": "6a6dedd3",
   "metadata": {},
   "outputs": [],
   "source": [
    "if connection.is_connected():\n",
    "    cursor.close()\n",
    "    connection.close()\n",
    "    print(\"MySQL connection is closed\")"
   ]
  },
  {
   "cell_type": "code",
   "execution_count": null,
   "id": "9653b2d8",
   "metadata": {},
   "outputs": [],
   "source": [
    "cursor = connection.cursor(prepared=True)"
   ]
  },
  {
   "cell_type": "code",
   "execution_count": null,
   "id": "57b7bbab",
   "metadata": {},
   "outputs": [],
   "source": [
    "stmt = \"SELECT name FROM Product WHERE Product_id = (SELECT product_id FROM Sale_Product GROUP BY product_id ORDER BY quantity DESC LIMIT 20);\"\n",
    "\n",
    "# execture the prepared statement\n",
    "cursor.execute(stmt)\n",
    "\n",
    "# fetch results\n",
    "record = cursor.fetchall()\n",
    "print(record)"
   ]
  },
  {
   "cell_type": "code",
   "execution_count": null,
   "id": "9f367918",
   "metadata": {},
   "outputs": [],
   "source": [
    "# prepared statement,  %s within the statement is a parameter marker\n",
    "def search:\n",
    "    stmt = \"SELECT name FROM Product WHERE (name = %s OR category = %s) AND quantity > 0\"\n",
    "\n",
    "    keyword = str(input())\n",
    "\n",
    "    # execture the prepared statement\n",
    "    cursor.execute(stmt, (keyword, keyword,))\n",
    "\n",
    "    # fetch results\n",
    "    record = cursor.fetchall()\n",
    "    print(record)\n",
    "    \n",
    "search()"
   ]
  }
 ],
 "metadata": {
  "kernelspec": {
   "display_name": "Python 3.10.1 64-bit",
   "language": "python",
   "name": "python3"
  },
  "language_info": {
   "codemirror_mode": {
    "name": "ipython",
    "version": 3
   },
   "file_extension": ".py",
   "mimetype": "text/x-python",
   "name": "python",
   "nbconvert_exporter": "python",
   "pygments_lexer": "ipython3",
   "version": "3.10.1"
  },
  "vscode": {
   "interpreter": {
    "hash": "aee8b7b246df8f9039afb4144a1f6fd8d2ca17a180786b69acc140d282b71a49"
   }
  }
 },
 "nbformat": 4,
 "nbformat_minor": 5
}
