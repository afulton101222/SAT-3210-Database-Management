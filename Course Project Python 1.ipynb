{
 "cells": [
  {
   "cell_type": "markdown",
   "id": "db613f1b",
   "metadata": {},
   "source": [
    "# SAT 3210 Database Management Course Project"
   ]
  },
  {
   "attachments": {},
   "cell_type": "markdown",
   "id": "a0ce0d61",
   "metadata": {},
   "source": [
    "#### MySQL Connector\n",
    "\n",
    "We first need to install the mysql connector and connect to the database"
   ]
  },
  {
   "cell_type": "code",
   "execution_count": null,
   "id": "29161d87",
   "metadata": {},
   "outputs": [],
   "source": [
    "pip install mysql-connector-python"
   ]
  },
  {
   "attachments": {},
   "cell_type": "markdown",
   "id": "c2667289",
   "metadata": {},
   "source": [
    "#### Test Database Initial Connection\n",
    "\n",
    "Testing connection to database with credentials in a password.txt file."
   ]
  },
  {
   "cell_type": "code",
   "execution_count": 35,
   "id": "cc7ad22f",
   "metadata": {},
   "outputs": [
    {
     "name": "stdout",
     "output_type": "stream",
     "text": [
      "Connected to MySQL Server version  8.0.31\n",
      "You're connected to database:  ('econofoods',)\n"
     ]
    }
   ],
   "source": [
    "import mysql.connector\n",
    "from mysql.connector import Error\n",
    "\n",
    "database = \"EconoFoods\"\n",
    "creds = open(\"password.txt\", \"r\")\n",
    "lines = creds.readlines()\n",
    "user_name = lines[0]\n",
    "password = lines[1]\n",
    "creds.close()\n",
    "\n",
    "try:\n",
    "    connection = mysql.connector.connect(host='localhost', database=database, user=user_name, password=password)\n",
    "    if connection.is_connected():\n",
    "        db_Info = connection.get_server_info()\n",
    "        print(\"Connected to MySQL Server version \", db_Info)\n",
    "        cursor = connection.cursor()\n",
    "        cursor.execute(\"select database();\")\n",
    "        record = cursor.fetchone()\n",
    "        print(\"You're connected to database: \", record)\n",
    "except Error as e:\n",
    "    print(\"Error while connecting to MySQL\", e)\n",
    "\n",
    "### Insert Functions Below\n",
    "\n",
    "\n",
    "\n",
    "### Insert Functions Above\n",
    "\n"
   ]
  },
  {
   "attachments": {},
   "cell_type": "markdown",
   "id": "294d13f1",
   "metadata": {},
   "source": [
    "#### Close Database\n",
    "\n",
    "Close database until future use."
   ]
  },
  {
   "cell_type": "code",
   "execution_count": 25,
   "id": "6a6dedd3",
   "metadata": {},
   "outputs": [
    {
     "name": "stdout",
     "output_type": "stream",
     "text": [
      "MySQL connection is closed\n"
     ]
    }
   ],
   "source": [
    "if connection.is_connected():\n",
    "    cursor.close()\n",
    "    connection.close()\n",
    "    print(\"MySQL connection is closed\")"
   ]
  },
  {
   "attachments": {},
   "cell_type": "markdown",
   "id": "cada1c51",
   "metadata": {},
   "source": [
    "## Database Design (Section 1)\n",
    "\n",
    "We've constructed an ER Diagram, reduced that to a relational schema diagram, and translated that over to our database files. We've included screenshots of our diagrams in our project overview paper.\n",
    "\n",
    "Our database creation file is `DaDatabaseDDL.sql`"
   ]
  },
  {
   "attachments": {},
   "cell_type": "markdown",
   "id": "004c0538",
   "metadata": {},
   "source": [
    "## Populate Relations (Section 2)\n",
    "\n",
    "For populating our database, we included an `insert.sql` script. After running the script, the database should be populated with all of our store's data."
   ]
  },
  {
   "cell_type": "markdown",
   "id": "a536e2db",
   "metadata": {},
   "source": [
    "## Database Queries (Section 3)\n",
    "\n",
    "\n",
    "\n"
   ]
  },
  {
   "attachments": {},
   "cell_type": "markdown",
   "id": "23cba4cf",
   "metadata": {},
   "source": [
    "1. How many products are in your store? \\\n",
    "2. How many types of products are in your store? \\\n",
    "3. What are the top 20 best-selling products in your store? \\\n",
    "4. Who are the top 10 best-selling vendors in your store? \\\n",
    "5. What are the top 3 types of products that customers buy? \\\n",
    "6. How many customers have purchased diet Pepsi? (Or a similar question for nonfood enterprises.)"
   ]
  },
  {
   "cell_type": "code",
   "execution_count": null,
   "id": "cc7ad22f",
   "metadata": {},
   "outputs": [
    {
     "name": "stdout",
     "output_type": "stream",
     "text": [
      "Connected to MySQL Server version  8.0.31\n",
      "You're connected to database:  ('econofoods',)\n"
     ]
    }
   ],
   "source": [
    "import mysql.connector\n",
    "from mysql.connector import Error\n",
    "\n",
    "database = \"EconoFoods\"\n",
    "creds = open(\"password.txt\", \"r\")\n",
    "lines = creds.readlines()\n",
    "user_name = lines[0]\n",
    "password = lines[1]\n",
    "creds.close()\n",
    "\n",
    "try:\n",
    "    connection = mysql.connector.connect(host='localhost', database=database, user=user_name, password=password)\n",
    "    if connection.is_connected():\n",
    "        db_Info = connection.get_server_info()\n",
    "        print(\"Connected to MySQL Server version \", db_Info)\n",
    "        cursor = connection.cursor()\n",
    "        cursor.execute(\"select database();\")\n",
    "        record = cursor.fetchone()\n",
    "        print(\"You're connected to database: \", record)\n",
    "except Error as e:\n",
    "    print(\"Error while connecting to MySQL\", e)\n",
    "\n",
    "### Insert Functions Below"
   ]
  },
  {
   "cell_type": "code",
   "execution_count": 2,
   "id": "77130697",
   "metadata": {},
   "outputs": [
    {
     "ename": "SyntaxError",
     "evalue": "invalid syntax (192568669.py, line 1)",
     "output_type": "error",
     "traceback": [
      "\u001b[1;36m  Cell \u001b[1;32mIn [2], line 1\u001b[1;36m\u001b[0m\n\u001b[1;33m    stmt = SELECT SUM(quantity) AS 'Total Products' FROM Product\u001b[0m\n\u001b[1;37m                  ^\u001b[0m\n\u001b[1;31mSyntaxError\u001b[0m\u001b[1;31m:\u001b[0m invalid syntax\n"
     ]
    }
   ],
   "source": [
    "stmt = \"SELECT SUM(quantity) AS 'Total Products' FROM Product\"\n",
    "cursor.execute(stmt)\n",
    "record = cursor.fetchall()\n",
    "print(record)"
   ]
  },
  {
   "cell_type": "code",
   "execution_count": 37,
   "id": "77130697",
   "metadata": {},
   "outputs": [
    {
     "name": "stdout",
     "output_type": "stream",
     "text": [
      "[(7,)]\n"
     ]
    }
   ],
   "source": [
    "stmt = \"SELECT COUNT(Category_Name) AS 'Total Types of Products' From Category\"\n",
    "cursor.execute(stmt)\n",
    "record = cursor.fetchall()\n",
    "print(record)"
   ]
  },
  {
   "cell_type": "code",
   "execution_count": null,
   "id": "77130697",
   "metadata": {},
   "outputs": [],
   "source": [
    "stmt = \"SELECT Product_name FROM Product WHERE Product_id = (SELECT Product_id FROM Order_Items GROUP BY Product_id ORDER BY Quantity DESC LIMIT 20)\"\n",
    "cursor.execute(stmt)\n",
    "record = cursor.fetchall()\n",
    "print(record)"
   ]
  },
  {
   "cell_type": "code",
   "execution_count": null,
   "id": "77130697",
   "metadata": {},
   "outputs": [],
   "source": [
    "stmt = \"SELECT Manufacturer_Name FROM Manufacturer WHERE Manufacturer_id = (SELECT Manufacturer_id FROM Product NATURAL JOIN Order_Items GROUP BY Manufacturer_id ORDER BY Quantity DESC LIMIT 10)\"\n",
    "cursor.execute(stmt)\n",
    "record = cursor.fetchall()\n",
    "print(record)"
   ]
  },
  {
   "cell_type": "code",
   "execution_count": 10,
   "id": "77130697",
   "metadata": {},
   "outputs": [
    {
     "ename": "SyntaxError",
     "evalue": "invalid syntax (3460169891.py, line 1)",
     "output_type": "error",
     "traceback": [
      "\u001b[1;36m  Cell \u001b[1;32mIn [10], line 1\u001b[1;36m\u001b[0m\n\u001b[1;33m    stmt = SELECT Category_Name FROM Category WHERE Category_id = (SELECT Category_id FROM Product NATURAL JOIN Order_Items GROUP BY Category_id ORDER BY Quantity DESC LIMIT 3)\u001b[0m\n\u001b[1;37m                  ^\u001b[0m\n\u001b[1;31mSyntaxError\u001b[0m\u001b[1;31m:\u001b[0m invalid syntax\n"
     ]
    }
   ],
   "source": [
    "stmt = \"SELECT Category_Name FROM Category WHERE Category_id = (SELECT Category_id FROM Product NATURAL JOIN Order_Items GROUP BY Category_id ORDER BY Quantity DESC LIMIT 3)\"\n",
    "cursor.execute(stmt)\n",
    "record = cursor.fetchall()\n",
    "print(record)"
   ]
  },
  {
   "cell_type": "code",
   "execution_count": 11,
   "id": "77130697",
   "metadata": {},
   "outputs": [
    {
     "ename": "SyntaxError",
     "evalue": "invalid syntax (2067524297.py, line 1)",
     "output_type": "error",
     "traceback": [
      "\u001b[1;36m  Cell \u001b[1;32mIn [11], line 1\u001b[1;36m\u001b[0m\n\u001b[1;33m    stmt = SELECT SUM(user_id) AS 'Total Customers that Bought Coca-Cola' FROM Customer_Sale WHERE Users_role = 'customer' AND user_id = (SELECT user_id FROM Orders NATURAL JOIN Order_Items WHERE Product_id = 29) GROUP BY user_id\u001b[0m\n\u001b[1;37m                  ^\u001b[0m\n\u001b[1;31mSyntaxError\u001b[0m\u001b[1;31m:\u001b[0m invalid syntax\n"
     ]
    }
   ],
   "source": [
    "stmt = \"SELECT SUM(user_id) AS 'Total Customers that Bought Coca-Cola' FROM Customer_Sale WHERE Users_role = 'customer' AND user_id = (SELECT user_id FROM Orders NATURAL JOIN Order_Items WHERE Product_id = 29) GROUP BY user_id\"\n",
    "cursor.execute(stmt)\n",
    "record = cursor.fetchall()\n",
    "print(record)"
   ]
  },
  {
   "cell_type": "markdown",
   "id": "1b2c7b52",
   "metadata": {},
   "source": []
  },
  {
   "attachments": {},
   "cell_type": "markdown",
   "id": "36ab42a5",
   "metadata": {},
   "source": [
    "## Database Functions (Section 4)"
   ]
  },
  {
   "attachments": {},
   "cell_type": "markdown",
   "id": "ee90bd08",
   "metadata": {},
   "source": [
    "Create two roles in the database: Customer and Employee. Add users to each role. Create a user as a Guest.\n",
    "\n",
    "\n",
    "- Employees can add/update/delete any customer/product/order tables. (Hint: grant all privileges to the role)\n",
    "- Customers may check available products by keywords (i.e., basic search)\n",
    "- Customers may add multiple products to one order. Only registered users can place orders. Guests cannot place orders\n",
    "- No overselling is allowed. (Hint: add a constraint in the tables to avoid overselling)"
   ]
  },
  {
   "cell_type": "code",
   "execution_count": 5,
   "id": "cc7ad22f",
   "metadata": {},
   "outputs": [
    {
     "name": "stdout",
     "output_type": "stream",
     "text": [
      "Connected to MySQL Server version  8.0.30\n",
      "You're connected to database:  ('econofoods',)\n"
     ]
    }
   ],
   "source": [
    "import mysql.connector\n",
    "from mysql.connector import Error\n",
    "\n",
    "database = \"EconoFoods\"\n",
    "creds = open(\"password.txt\", \"r\")\n",
    "lines = creds.readlines()\n",
    "user_name = lines[0]\n",
    "password = lines[1]\n",
    "creds.close()\n",
    "\n",
    "try:\n",
    "    connection = mysql.connector.connect(host='localhost', database=database, user=user_name, password=password)\n",
    "    if connection.is_connected():\n",
    "        db_Info = connection.get_server_info()\n",
    "        print(\"Connected to MySQL Server version \", db_Info)\n",
    "        cursor = connection.cursor()\n",
    "        cursor.execute(\"select database();\")\n",
    "        record = cursor.fetchone()\n",
    "        print(\"You're connected to database: \", record)\n",
    "except Error as e:\n",
    "    print(\"Error while connecting to MySQL\", e)\n",
    "\n",
    "### Insert queries below to test functionality tasks\n",
    "\n",
    "\n",
    "\n",
    "### Insert queries above to test functionality tasks\n",
    "\n"
   ]
  },
  {
   "cell_type": "code",
   "execution_count": null,
   "id": "eef97f7f",
   "metadata": {},
   "outputs": [],
   "source": []
  },
  {
   "cell_type": "code",
   "execution_count": null,
   "id": "d8da0217",
   "metadata": {},
   "outputs": [],
   "source": []
  },
  {
   "cell_type": "code",
   "execution_count": 6,
   "id": "728c55b6",
   "metadata": {},
   "outputs": [
    {
     "ename": "SyntaxError",
     "evalue": "invalid syntax (3557515352.py, line 2)",
     "output_type": "error",
     "traceback": [
      "\u001b[1;36m  Cell \u001b[1;32mIn [6], line 2\u001b[1;36m\u001b[0m\n\u001b[1;33m    stmt = SELECT sum(quantity) AS 'Total Products' FROM product;\u001b[0m\n\u001b[1;37m                  ^\u001b[0m\n\u001b[1;31mSyntaxError\u001b[0m\u001b[1;31m:\u001b[0m invalid syntax\n"
     ]
    }
   ],
   "source": [
    "if connection.is_connected():\n",
    "    stmt = \"SELECT sum(quantity) AS 'Total Products' FROM product\"\n",
    "    cursor.execute(stmt)\n",
    "    record = cursor.fetchall()\n",
    "    print(record)\n",
    "else:\n",
    "    print(\"Database not connected\")"
   ]
  },
  {
   "cell_type": "code",
   "execution_count": null,
   "id": "6a6dedd3",
   "metadata": {},
   "outputs": [],
   "source": [
    "if connection.is_connected():\n",
    "    cursor.close()\n",
    "    connection.close()\n",
    "    print(\"MySQL connection is closed\")"
   ]
  },
  {
   "cell_type": "code",
   "execution_count": null,
   "id": "9653b2d8",
   "metadata": {},
   "outputs": [],
   "source": [
    "cursor = connection.cursor(prepared=True)"
   ]
  },
  {
   "attachments": {},
   "cell_type": "markdown",
   "id": "6885e9b1",
   "metadata": {},
   "source": [
    "## Python Functions (Section 5)"
   ]
  },
  {
   "cell_type": "code",
   "execution_count": null,
   "id": "57b7bbab",
   "metadata": {},
   "outputs": [],
   "source": [
    "stmt = \"SELECT name FROM Product WHERE Product_id = (SELECT product_id FROM Sale_Product GROUP BY product_id ORDER BY quantity DESC LIMIT 20);\"\n",
    "\n",
    "# execture the prepared statement\n",
    "cursor.execute(stmt)\n",
    "\n",
    "# fetch results\n",
    "record = cursor.fetchall()\n",
    "print(record)"
   ]
  },
  {
   "cell_type": "code",
   "execution_count": null,
   "id": "44d4ca41",
   "metadata": {},
   "outputs": [],
   "source": []
  },
  {
   "cell_type": "code",
   "execution_count": 4,
   "id": "9f367918",
   "metadata": {},
   "outputs": [
    {
     "ename": "SyntaxError",
     "evalue": "invalid syntax (724827609.py, line 2)",
     "output_type": "error",
     "traceback": [
      "\u001b[1;36m  Cell \u001b[1;32mIn [4], line 2\u001b[1;36m\u001b[0m\n\u001b[1;33m    def search:\u001b[0m\n\u001b[1;37m              ^\u001b[0m\n\u001b[1;31mSyntaxError\u001b[0m\u001b[1;31m:\u001b[0m invalid syntax\n"
     ]
    }
   ],
   "source": [
    "# prepared statement,  %s within the statement is a parameter marker\n",
    "def search:\n",
    "    stmt = \"SELECT name FROM Product WHERE (name = %s OR category = %s) AND quantity > 0\"\n",
    "\n",
    "    keyword = str(input())\n",
    "\n",
    "    # execture the prepared statement\n",
    "    cursor.execute(stmt, (keyword, keyword,))\n",
    "\n",
    "    # fetch results\n",
    "    record = cursor.fetchall()\n",
    "    print(record)\n",
    "    \n",
    "search()"
   ]
  }
 ],
 "metadata": {
  "kernelspec": {
   "display_name": "Python 3",
   "language": "python",
   "name": "python3"
  },
  "language_info": {
   "codemirror_mode": {
    "name": "ipython",
    "version": 3
   },
   "file_extension": ".py",
   "mimetype": "text/x-python",
   "name": "python",
   "nbconvert_exporter": "python",
   "pygments_lexer": "ipython3",
   "version": "3.10.6"
  },
  "vscode": {
   "interpreter": {
    "hash": "9b5927d54e66799c3d63ab01fcdfcdd3e853a5b6234459225f0453400f805700"
   }
  }
 },
 "nbformat": 4,
 "nbformat_minor": 5
}
